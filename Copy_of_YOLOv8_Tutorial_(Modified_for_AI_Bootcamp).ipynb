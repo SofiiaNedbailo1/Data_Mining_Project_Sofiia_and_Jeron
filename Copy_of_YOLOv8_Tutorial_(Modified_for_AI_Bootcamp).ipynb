{
  "nbformat": 4,
  "nbformat_minor": 0,
  "metadata": {
    "colab": {
      "provenance": [],
      "include_colab_link": true
    },
    "kernelspec": {
      "name": "python3",
      "display_name": "Python 3"
    },
    "accelerator": "GPU"
  },
  "cells": [
    {
      "cell_type": "markdown",
      "metadata": {
        "id": "view-in-github",
        "colab_type": "text"
      },
      "source": [
        "<a href=\"https://colab.research.google.com/github/SofiiaNedbailo1/Data_Mining_Project_Sofiia_and_Jeron/blob/main/Copy_of_YOLOv8_Tutorial_(Modified_for_AI_Bootcamp).ipynb\" target=\"_parent\"><img src=\"https://colab.research.google.com/assets/colab-badge.svg\" alt=\"Open In Colab\"/></a>"
      ]
    },
    {
      "cell_type": "markdown",
      "metadata": {
        "id": "t6MPjfT5NrKQ"
      },
      "source": [
        "# AI Bootcamp\n",
        "This notebook is a copy of [this notebook](https://colab.research.google.com/github/ultralytics/ultralytics/blob/main/examples/tutorial.ipynb)\n",
        "\n",
        "The changes are minimal, the biggest ones have to do with loading in the dataset directly from Roboflow and removing some parst that are not relevant for the AI Bootcamp. If you are interested please visit the link mentioned to see the removed parts."
      ]
    },
    {
      "cell_type": "markdown",
      "metadata": {
        "id": "7mGmQbAO5pQb"
      },
      "source": [
        "# Setup\n",
        "\n",
        "Pip install `ultralytics` and [dependencies](https://github.com/ultralytics/ultralytics/blob/main/requirements.txt) and check software and hardware."
      ]
    },
    {
      "cell_type": "code",
      "metadata": {
        "id": "wbvMlHd_QwMG",
        "colab": {
          "base_uri": "https://localhost:8080/",
          "height": 1000
        },
        "outputId": "bf158a40-e3fb-434d-d9d6-523197fa2561"
      },
      "source": [
        "%pip install ultralytics\n",
        "%pip install roboflow\n",
        "import ultralytics\n",
        "from PIL import Image\n",
        "import cv2\n",
        "from ultralytics import YOLO\n",
        "ultralytics.checks()"
      ],
      "execution_count": 1,
      "outputs": [
        {
          "output_type": "stream",
          "name": "stderr",
          "text": [
            "Ultralytics YOLOv8.0.203 🚀 Python-3.10.12 torch-2.1.0+cu118 CUDA:0 (Tesla T4, 15102MiB)\n",
            "Setup complete ✅ (2 CPUs, 12.7 GB RAM, 27.2/78.2 GB disk)\n"
          ]
        }
      ]
    },
    {
      "cell_type": "markdown",
      "metadata": {
        "id": "4JnkELT0cIJg"
      },
      "source": [
        "# 1. Predict\n",
        "\n",
        "YOLOv8 may be used directly in the Command Line Interface (CLI) with a `yolo` command for a variety of tasks and modes and accepts additional arguments, i.e. `imgsz=640`. See a full list of available `yolo` [arguments](https://docs.ultralytics.com/usage/cfg/) and other details in the [YOLOv8 Predict Docs](https://docs.ultralytics.com/modes/train/).\n"
      ]
    },
    {
      "cell_type": "code",
      "metadata": {
        "id": "zR9ZbuQCH7FX",
        "colab": {
          "base_uri": "https://localhost:8080/"
        },
        "outputId": "351ee1a1-ae4f-4b99-f336-5a8477daea9b"
      },
      "source": [
        "# Run inference on an image with YOLOv8n\n",
        "!yolo predict model=yolov8s.pt source='https://ultralytics.com/images/zidane.jpg'"
      ],
      "execution_count": 2,
      "outputs": [
        {
          "output_type": "stream",
          "name": "stdout",
          "text": [
            "Downloading https://github.com/ultralytics/assets/releases/download/v0.0.0/yolov8s.pt to 'yolov8s.pt'...\n",
            "100% 21.5M/21.5M [00:00<00:00, 221MB/s]\n",
            "Ultralytics YOLOv8.0.203 🚀 Python-3.10.12 torch-2.1.0+cu118 CUDA:0 (Tesla T4, 15102MiB)\n",
            "YOLOv8s summary (fused): 168 layers, 11156544 parameters, 0 gradients, 28.6 GFLOPs\n",
            "\n",
            "Downloading https://ultralytics.com/images/zidane.jpg to 'zidane.jpg'...\n",
            "100% 165k/165k [00:00<00:00, 16.4MB/s]\n",
            "image 1/1 /content/zidane.jpg: 384x640 2 persons, 2 ties, 105.8ms\n",
            "Speed: 2.0ms preprocess, 105.8ms inference, 286.9ms postprocess per image at shape (1, 3, 384, 640)\n",
            "Results saved to \u001b[1mruns/detect/predict\u001b[0m\n",
            "💡 Learn more at https://docs.ultralytics.com/modes/predict\n"
          ]
        }
      ]
    },
    {
      "cell_type": "markdown",
      "metadata": {
        "id": "hkAzDWJ7cWTr"
      },
      "source": [
        "&nbsp;&nbsp;&nbsp;&nbsp;&nbsp;&nbsp;&nbsp;&nbsp;\n",
        "<img align=\"left\" src=\"https://user-images.githubusercontent.com/26833433/212889447-69e5bdf1-5800-4e29-835e-2ed2336dede2.jpg\" width=\"600\">"
      ]
    },
    {
      "cell_type": "code",
      "source": [
        "# Or you can run inference directly on an online image.\n",
        "!yolo predict model=yolov8n.pt source='https://media.wired.com/photos/593256b42a990b06268a9e21/master/w_2240,c_limit/traffic-jam-getty.jpg'"
      ],
      "metadata": {
        "colab": {
          "base_uri": "https://localhost:8080/"
        },
        "id": "EWjqI5RzIIQ7",
        "outputId": "bd05cc4b-d2fa-4fcb-97ff-51a9ce287834"
      },
      "execution_count": 3,
      "outputs": [
        {
          "output_type": "stream",
          "name": "stdout",
          "text": [
            "Downloading https://github.com/ultralytics/assets/releases/download/v0.0.0/yolov8n.pt to 'yolov8n.pt'...\n",
            "100% 6.23M/6.23M [00:00<00:00, 143MB/s]\n",
            "Ultralytics YOLOv8.0.203 🚀 Python-3.10.12 torch-2.1.0+cu118 CUDA:0 (Tesla T4, 15102MiB)\n",
            "YOLOv8n summary (fused): 168 layers, 3151904 parameters, 0 gradients, 8.7 GFLOPs\n",
            "\n",
            "Downloading https://media.wired.com/photos/593256b42a990b06268a9e21/master/w_2240,c_limit/traffic-jam-getty.jpg to 'traffic-jam-getty.jpg'...\n",
            "100% 231k/231k [00:00<00:00, 16.5MB/s]\n",
            "image 1/1 /content/traffic-jam-getty.jpg: 448x640 65 cars, 1 bus, 105.2ms\n",
            "Speed: 3.6ms preprocess, 105.2ms inference, 86.5ms postprocess per image at shape (1, 3, 448, 640)\n",
            "Results saved to \u001b[1mruns/detect/predict2\u001b[0m\n",
            "💡 Learn more at https://docs.ultralytics.com/modes/predict\n"
          ]
        }
      ]
    },
    {
      "cell_type": "markdown",
      "source": [
        "# Dataset preparation\n",
        "\n",
        "You should have a dataset on Roboflow that you will have to use here."
      ],
      "metadata": {
        "id": "4k4cRUGyI_Kh"
      }
    },
    {
      "cell_type": "code",
      "source": [
        "%cd /content/\n",
        "roboflow_url = \"https://app.roboflow.com/ds/uxzgzweg80?key=UqcTQwnzSQ\"\n",
        "!curl -L $roboflow_url > roboflow.zip; unzip roboflow.zip; rm roboflow.zip\n",
        "# You should make sure to have a validation set. If you don't have one you can copy your train set.\n",
        "!cp -r train/. valid/\n"
      ],
      "metadata": {
        "colab": {
          "base_uri": "https://localhost:8080/"
        },
        "id": "CwYkDo1MI-8B",
        "outputId": "542c5242-ab97-4a71-84f1-aecf0926ac53"
      },
      "execution_count": 4,
      "outputs": [
        {
          "output_type": "stream",
          "name": "stdout",
          "text": [
            "/content\n",
            "  % Total    % Received % Xferd  Average Speed   Time    Time     Time  Current\n",
            "                                 Dload  Upload   Total   Spent    Left  Speed\n",
            "100   894  100   894    0     0   2184      0 --:--:-- --:--:-- --:--:--  2180\n",
            "100 7064k  100 7064k    0     0  4779k      0  0:00:01  0:00:01 --:--:-- 33.5M\n",
            "Archive:  roboflow.zip\n",
            " extracting: README.dataset.txt      \n",
            " extracting: README.roboflow.txt     \n",
            " extracting: data.yaml               \n",
            "   creating: train/\n",
            "   creating: train/images/\n",
            " extracting: train/images/IMG_0792_jpg.rf.1b4dbba9294d872bbd977cd307da83cb.jpg  \n",
            " extracting: train/images/IMG_0792_jpg.rf.2e9c82948a1cc450e24286c6c99d3f87.jpg  \n",
            " extracting: train/images/IMG_0792_jpg.rf.ead072bbff2d692bdee425210e5ef860.jpg  \n",
            " extracting: train/images/IMG_0793_jpg.rf.2682760b20b287d63e5d198095e4433c.jpg  \n",
            " extracting: train/images/IMG_0793_jpg.rf.4e79a18ec808950046495d1d82107775.jpg  \n",
            " extracting: train/images/IMG_0793_jpg.rf.d53cfd5ddaea1eaa9affa7beccaeb0b3.jpg  \n",
            " extracting: train/images/IMG_0794_jpg.rf.87bcd4ebf76890e14faad2a347e23732.jpg  \n",
            " extracting: train/images/IMG_0794_jpg.rf.9f08345d70d91d9fa9654d607d1df457.jpg  \n",
            " extracting: train/images/IMG_0794_jpg.rf.fad42d222645a5db838c0491b61dfc2e.jpg  \n",
            " extracting: train/images/IMG_0796_jpg.rf.53fa2da3b463f46f9a46c4b17d78c2b3.jpg  \n",
            " extracting: train/images/IMG_0796_jpg.rf.d2d03d44b542da871aa74148f8c0a882.jpg  \n",
            " extracting: train/images/IMG_0796_jpg.rf.df643ab1494cf3909a747e6dbad8b369.jpg  \n",
            " extracting: train/images/IMG_0797_jpg.rf.0340f06c8b39f47d296c58bb41fb2256.jpg  \n",
            " extracting: train/images/IMG_0797_jpg.rf.adfdeaefccd884de7976f56d8290782c.jpg  \n",
            " extracting: train/images/IMG_0797_jpg.rf.d0ef73962b1cd55687ecf85d0d74664f.jpg  \n",
            " extracting: train/images/IMG_0802_jpg.rf.183452ecc2302de056db88db9e087192.jpg  \n",
            " extracting: train/images/IMG_0802_jpg.rf.29b03d6d078cc53d7bfd0f07f471cd17.jpg  \n",
            " extracting: train/images/IMG_0802_jpg.rf.a6a70c19a45d02f4b46683050fc39662.jpg  \n",
            " extracting: train/images/IMG_0804_jpg.rf.ab47b504d4f4ff33c64601ef9ba71081.jpg  \n",
            " extracting: train/images/IMG_0804_jpg.rf.bc71cf337610fadfcb2ff04efb965caa.jpg  \n",
            " extracting: train/images/IMG_0804_jpg.rf.facc0bd182f98d6cc36b4c457bfbf137.jpg  \n",
            " extracting: train/images/IMG_0805_jpg.rf.1819e07f49ceee5bc77def5f8c4ced34.jpg  \n",
            " extracting: train/images/IMG_0805_jpg.rf.4b705b7888170af08187877b339026d1.jpg  \n",
            " extracting: train/images/IMG_0805_jpg.rf.51921beb7e96b0387f6adce446c4cc21.jpg  \n",
            " extracting: train/images/IMG_0806_jpg.rf.1c913f1c5a9760f98bb9a5829b75745d.jpg  \n",
            " extracting: train/images/IMG_0806_jpg.rf.1ecb17b5658986fd4a4a9f00936edd87.jpg  \n",
            " extracting: train/images/IMG_0806_jpg.rf.8cbf389bac44910053c481b0aa680168.jpg  \n",
            " extracting: train/images/IMG_0807_jpg.rf.740dfb3a04f52132bf7a7621d88255d2.jpg  \n",
            " extracting: train/images/IMG_0807_jpg.rf.988ae267e3892e7ee7d6942bfe34d743.jpg  \n",
            " extracting: train/images/IMG_0807_jpg.rf.a3df929cc39fc78f69e38ecd2fcdf9eb.jpg  \n",
            " extracting: train/images/IMG_0808_jpg.rf.298ff36a0235423f5a481944f77af7da.jpg  \n",
            " extracting: train/images/IMG_0808_jpg.rf.b90044084e9aa89afbbdf37545bf2e4b.jpg  \n",
            " extracting: train/images/IMG_0808_jpg.rf.d49b6a51786f3359edd4d0665ba2c165.jpg  \n",
            " extracting: train/images/IMG_0809_jpg.rf.5044bc23e443d3df328f58973fd726b3.jpg  \n",
            " extracting: train/images/IMG_0809_jpg.rf.55c0631ddc96228af73fac93ffd440a8.jpg  \n",
            " extracting: train/images/IMG_0809_jpg.rf.9ddde033fc6955eb0f3013af143cf223.jpg  \n",
            " extracting: train/images/IMG_0810_jpg.rf.49008d75bc179ef249917f24d589d558.jpg  \n",
            " extracting: train/images/IMG_0810_jpg.rf.6f376fae7b8abb8da8d34ffdb0b3f55b.jpg  \n",
            " extracting: train/images/IMG_0810_jpg.rf.a23a70c4dbf4d3503deb5437218ca2ed.jpg  \n",
            " extracting: train/images/IMG_0812_jpg.rf.0af9c07fd03a833febcfb30cd622227f.jpg  \n",
            " extracting: train/images/IMG_0812_jpg.rf.6becd5200c2fb8ca1c47ea5b9193a60b.jpg  \n",
            " extracting: train/images/IMG_0812_jpg.rf.88fd09a618fce0f25d039ebaaa731a85.jpg  \n",
            " extracting: train/images/IMG_0813_jpg.rf.0776df2e48c2363a79c2ac92791a8033.jpg  \n",
            " extracting: train/images/IMG_0813_jpg.rf.39a3d5541f84807f354c9919c2e749e4.jpg  \n",
            " extracting: train/images/IMG_0813_jpg.rf.fad5a153f092fa32681a1fc4f51b3b9e.jpg  \n",
            " extracting: train/images/IMG_0814_jpg.rf.3d638618dda069bea3ebc08d68b586d3.jpg  \n",
            " extracting: train/images/IMG_0814_jpg.rf.765e0400e351769cacf841d7fa469a77.jpg  \n",
            " extracting: train/images/IMG_0814_jpg.rf.bf897a8e6ec65c2a3ec93a7cda503027.jpg  \n",
            " extracting: train/images/IMG_0815_jpg.rf.16b42f597f828801b831f1713afab767.jpg  \n",
            " extracting: train/images/IMG_0815_jpg.rf.43c5067021c7575036eb24bbfe4c1597.jpg  \n",
            " extracting: train/images/IMG_0815_jpg.rf.dbf1bc8e2d4e1a6a91b4d6ef8909ed75.jpg  \n",
            " extracting: train/images/IMG_0816_jpg.rf.04262d901932335af126e3fb10f8de0f.jpg  \n",
            " extracting: train/images/IMG_0816_jpg.rf.1c18542ff010808420f91a6c4352e3bc.jpg  \n",
            " extracting: train/images/IMG_0816_jpg.rf.867aa477d407f583370c11310048616e.jpg  \n",
            " extracting: train/images/IMG_0817_jpg.rf.015fc1bbc3496b8bbb51f9f15b3b1935.jpg  \n",
            " extracting: train/images/IMG_0817_jpg.rf.b64da7e41de1ab8a93ceca33a7718a20.jpg  \n",
            " extracting: train/images/IMG_0817_jpg.rf.c0575c12d0ef20a92c167d07c24f24ee.jpg  \n",
            " extracting: train/images/IMG_0818_jpg.rf.bafe9e38dac2c22fb93876cb283b89e0.jpg  \n",
            " extracting: train/images/IMG_0818_jpg.rf.cf3c91b58cfd6f4a9949f670a231974b.jpg  \n",
            " extracting: train/images/IMG_0818_jpg.rf.ead825783d5dad2923bb6df7554ade41.jpg  \n",
            " extracting: train/images/IMG_0819_jpg.rf.171782a889e39cdc4bf1830e9aaab2d5.jpg  \n",
            " extracting: train/images/IMG_0819_jpg.rf.5cfb1bfae40af26f23cd830e49044a4e.jpg  \n",
            " extracting: train/images/IMG_0819_jpg.rf.722e5c0a6a79b0f23e4ab851abc9f3da.jpg  \n",
            " extracting: train/images/IMG_0820_jpg.rf.1545fe6a1b4ee8a38f42a4f7e20dc27a.jpg  \n",
            " extracting: train/images/IMG_0820_jpg.rf.b778893f11dfe6f388df0e74a07f3758.jpg  \n",
            " extracting: train/images/IMG_0820_jpg.rf.e1c28d20ce5afaa45f51385a5a8180b7.jpg  \n",
            " extracting: train/images/IMG_0821_jpg.rf.7c1482bc5bfd9a1081e069085218d9a8.jpg  \n",
            " extracting: train/images/IMG_0821_jpg.rf.c2e1693e8a9f711df0d2dedbe4a8fa74.jpg  \n",
            " extracting: train/images/IMG_0821_jpg.rf.fddbd5d4a71350b81b1542037b8655cb.jpg  \n",
            " extracting: train/images/IMG_0822_jpg.rf.0cce06601dc4e66d51b21a41809e594b.jpg  \n",
            " extracting: train/images/IMG_0822_jpg.rf.6c21a0136fd8d958ff3ec1a104e23b77.jpg  \n",
            " extracting: train/images/IMG_0822_jpg.rf.abd741bb5855b8e275d8839f4f3ff6bc.jpg  \n",
            " extracting: train/images/IMG_0823_jpg.rf.37fb183aa979ad2376c0c0220533035c.jpg  \n",
            " extracting: train/images/IMG_0823_jpg.rf.98ed4c8a323697779331e7a3491912a0.jpg  \n",
            " extracting: train/images/IMG_0823_jpg.rf.db6f23ebfeafed9e13454ca8581b6eb0.jpg  \n",
            " extracting: train/images/IMG_0824_jpg.rf.6d7d10889d46015ff5b1d70d252ca936.jpg  \n",
            " extracting: train/images/IMG_0824_jpg.rf.a86b9c37e6391ed8a7c6849386747cc0.jpg  \n",
            " extracting: train/images/IMG_0824_jpg.rf.b75af11881e661282af69de95cea30ac.jpg  \n",
            " extracting: train/images/IMG_0825_jpg.rf.285e4f6d06ea1132a0ef7f477420232a.jpg  \n",
            " extracting: train/images/IMG_0825_jpg.rf.447519c0bdf958265f3149c40aa9cc46.jpg  \n",
            " extracting: train/images/IMG_0825_jpg.rf.cfa7b14a6a7375d50bbee137f1ae54c4.jpg  \n",
            " extracting: train/images/IMG_0826_jpg.rf.4aea9e37d4c091dc8f7fb6de6e267be1.jpg  \n",
            " extracting: train/images/IMG_0826_jpg.rf.affed67783c5debc1e83a2c3ff62d8b8.jpg  \n",
            " extracting: train/images/IMG_0826_jpg.rf.cf733343a0f39a4d00a4c6ca08cfd004.jpg  \n",
            " extracting: train/images/IMG_0827_jpg.rf.0b2f0097a56ae227a672bddc2dc1945e.jpg  \n",
            " extracting: train/images/IMG_0827_jpg.rf.f9bbf97308f977b81ef0b36441dd738f.jpg  \n",
            " extracting: train/images/IMG_0827_jpg.rf.fc79399b7f93c1c94fc369244e37d043.jpg  \n",
            " extracting: train/images/IMG_0828_jpg.rf.2e7ccb14273547f906f12db10804c792.jpg  \n",
            " extracting: train/images/IMG_0828_jpg.rf.533dac9c562cbdb9250af8cb4d340b3d.jpg  \n",
            " extracting: train/images/IMG_0828_jpg.rf.a0053034dd234c75341f5f3b1ec5c49b.jpg  \n",
            " extracting: train/images/IMG_0830_jpg.rf.29b4999892ce98c8e49e95138539fc76.jpg  \n",
            " extracting: train/images/IMG_0830_jpg.rf.77a3900be897dbc7f4ed0016a37f9a34.jpg  \n",
            " extracting: train/images/IMG_0830_jpg.rf.fa4172ab60708091bfca9ccce6c0bce6.jpg  \n",
            " extracting: train/images/IMG_0831_jpg.rf.24f13cd26a817d9f7447396cde9d52d9.jpg  \n",
            " extracting: train/images/IMG_0831_jpg.rf.5239f87e12143219b757f21d5581b24c.jpg  \n",
            " extracting: train/images/IMG_0831_jpg.rf.bc1fd3455b18c1cd289f63c2e505b8aa.jpg  \n",
            "   creating: train/labels/\n",
            " extracting: train/labels/IMG_0792_jpg.rf.1b4dbba9294d872bbd977cd307da83cb.txt  \n",
            " extracting: train/labels/IMG_0792_jpg.rf.2e9c82948a1cc450e24286c6c99d3f87.txt  \n",
            " extracting: train/labels/IMG_0792_jpg.rf.ead072bbff2d692bdee425210e5ef860.txt  \n",
            " extracting: train/labels/IMG_0793_jpg.rf.2682760b20b287d63e5d198095e4433c.txt  \n",
            " extracting: train/labels/IMG_0793_jpg.rf.4e79a18ec808950046495d1d82107775.txt  \n",
            " extracting: train/labels/IMG_0793_jpg.rf.d53cfd5ddaea1eaa9affa7beccaeb0b3.txt  \n",
            " extracting: train/labels/IMG_0794_jpg.rf.87bcd4ebf76890e14faad2a347e23732.txt  \n",
            " extracting: train/labels/IMG_0794_jpg.rf.9f08345d70d91d9fa9654d607d1df457.txt  \n",
            " extracting: train/labels/IMG_0794_jpg.rf.fad42d222645a5db838c0491b61dfc2e.txt  \n",
            " extracting: train/labels/IMG_0796_jpg.rf.53fa2da3b463f46f9a46c4b17d78c2b3.txt  \n",
            " extracting: train/labels/IMG_0796_jpg.rf.d2d03d44b542da871aa74148f8c0a882.txt  \n",
            " extracting: train/labels/IMG_0796_jpg.rf.df643ab1494cf3909a747e6dbad8b369.txt  \n",
            " extracting: train/labels/IMG_0797_jpg.rf.0340f06c8b39f47d296c58bb41fb2256.txt  \n",
            " extracting: train/labels/IMG_0797_jpg.rf.adfdeaefccd884de7976f56d8290782c.txt  \n",
            " extracting: train/labels/IMG_0797_jpg.rf.d0ef73962b1cd55687ecf85d0d74664f.txt  \n",
            " extracting: train/labels/IMG_0802_jpg.rf.183452ecc2302de056db88db9e087192.txt  \n",
            " extracting: train/labels/IMG_0802_jpg.rf.29b03d6d078cc53d7bfd0f07f471cd17.txt  \n",
            " extracting: train/labels/IMG_0802_jpg.rf.a6a70c19a45d02f4b46683050fc39662.txt  \n",
            " extracting: train/labels/IMG_0804_jpg.rf.ab47b504d4f4ff33c64601ef9ba71081.txt  \n",
            " extracting: train/labels/IMG_0804_jpg.rf.bc71cf337610fadfcb2ff04efb965caa.txt  \n",
            " extracting: train/labels/IMG_0804_jpg.rf.facc0bd182f98d6cc36b4c457bfbf137.txt  \n",
            " extracting: train/labels/IMG_0805_jpg.rf.1819e07f49ceee5bc77def5f8c4ced34.txt  \n",
            " extracting: train/labels/IMG_0805_jpg.rf.4b705b7888170af08187877b339026d1.txt  \n",
            " extracting: train/labels/IMG_0805_jpg.rf.51921beb7e96b0387f6adce446c4cc21.txt  \n",
            " extracting: train/labels/IMG_0806_jpg.rf.1c913f1c5a9760f98bb9a5829b75745d.txt  \n",
            " extracting: train/labels/IMG_0806_jpg.rf.1ecb17b5658986fd4a4a9f00936edd87.txt  \n",
            " extracting: train/labels/IMG_0806_jpg.rf.8cbf389bac44910053c481b0aa680168.txt  \n",
            " extracting: train/labels/IMG_0807_jpg.rf.740dfb3a04f52132bf7a7621d88255d2.txt  \n",
            " extracting: train/labels/IMG_0807_jpg.rf.988ae267e3892e7ee7d6942bfe34d743.txt  \n",
            " extracting: train/labels/IMG_0807_jpg.rf.a3df929cc39fc78f69e38ecd2fcdf9eb.txt  \n",
            " extracting: train/labels/IMG_0808_jpg.rf.298ff36a0235423f5a481944f77af7da.txt  \n",
            " extracting: train/labels/IMG_0808_jpg.rf.b90044084e9aa89afbbdf37545bf2e4b.txt  \n",
            " extracting: train/labels/IMG_0808_jpg.rf.d49b6a51786f3359edd4d0665ba2c165.txt  \n",
            " extracting: train/labels/IMG_0809_jpg.rf.5044bc23e443d3df328f58973fd726b3.txt  \n",
            " extracting: train/labels/IMG_0809_jpg.rf.55c0631ddc96228af73fac93ffd440a8.txt  \n",
            " extracting: train/labels/IMG_0809_jpg.rf.9ddde033fc6955eb0f3013af143cf223.txt  \n",
            " extracting: train/labels/IMG_0810_jpg.rf.49008d75bc179ef249917f24d589d558.txt  \n",
            " extracting: train/labels/IMG_0810_jpg.rf.6f376fae7b8abb8da8d34ffdb0b3f55b.txt  \n",
            " extracting: train/labels/IMG_0810_jpg.rf.a23a70c4dbf4d3503deb5437218ca2ed.txt  \n",
            " extracting: train/labels/IMG_0812_jpg.rf.0af9c07fd03a833febcfb30cd622227f.txt  \n",
            " extracting: train/labels/IMG_0812_jpg.rf.6becd5200c2fb8ca1c47ea5b9193a60b.txt  \n",
            " extracting: train/labels/IMG_0812_jpg.rf.88fd09a618fce0f25d039ebaaa731a85.txt  \n",
            " extracting: train/labels/IMG_0813_jpg.rf.0776df2e48c2363a79c2ac92791a8033.txt  \n",
            " extracting: train/labels/IMG_0813_jpg.rf.39a3d5541f84807f354c9919c2e749e4.txt  \n",
            " extracting: train/labels/IMG_0813_jpg.rf.fad5a153f092fa32681a1fc4f51b3b9e.txt  \n",
            " extracting: train/labels/IMG_0814_jpg.rf.3d638618dda069bea3ebc08d68b586d3.txt  \n",
            " extracting: train/labels/IMG_0814_jpg.rf.765e0400e351769cacf841d7fa469a77.txt  \n",
            " extracting: train/labels/IMG_0814_jpg.rf.bf897a8e6ec65c2a3ec93a7cda503027.txt  \n",
            " extracting: train/labels/IMG_0815_jpg.rf.16b42f597f828801b831f1713afab767.txt  \n",
            " extracting: train/labels/IMG_0815_jpg.rf.43c5067021c7575036eb24bbfe4c1597.txt  \n",
            " extracting: train/labels/IMG_0815_jpg.rf.dbf1bc8e2d4e1a6a91b4d6ef8909ed75.txt  \n",
            " extracting: train/labels/IMG_0816_jpg.rf.04262d901932335af126e3fb10f8de0f.txt  \n",
            " extracting: train/labels/IMG_0816_jpg.rf.1c18542ff010808420f91a6c4352e3bc.txt  \n",
            " extracting: train/labels/IMG_0816_jpg.rf.867aa477d407f583370c11310048616e.txt  \n",
            " extracting: train/labels/IMG_0817_jpg.rf.015fc1bbc3496b8bbb51f9f15b3b1935.txt  \n",
            " extracting: train/labels/IMG_0817_jpg.rf.b64da7e41de1ab8a93ceca33a7718a20.txt  \n",
            " extracting: train/labels/IMG_0817_jpg.rf.c0575c12d0ef20a92c167d07c24f24ee.txt  \n",
            " extracting: train/labels/IMG_0818_jpg.rf.bafe9e38dac2c22fb93876cb283b89e0.txt  \n",
            " extracting: train/labels/IMG_0818_jpg.rf.cf3c91b58cfd6f4a9949f670a231974b.txt  \n",
            " extracting: train/labels/IMG_0818_jpg.rf.ead825783d5dad2923bb6df7554ade41.txt  \n",
            " extracting: train/labels/IMG_0819_jpg.rf.171782a889e39cdc4bf1830e9aaab2d5.txt  \n",
            " extracting: train/labels/IMG_0819_jpg.rf.5cfb1bfae40af26f23cd830e49044a4e.txt  \n",
            " extracting: train/labels/IMG_0819_jpg.rf.722e5c0a6a79b0f23e4ab851abc9f3da.txt  \n",
            " extracting: train/labels/IMG_0820_jpg.rf.1545fe6a1b4ee8a38f42a4f7e20dc27a.txt  \n",
            " extracting: train/labels/IMG_0820_jpg.rf.b778893f11dfe6f388df0e74a07f3758.txt  \n",
            " extracting: train/labels/IMG_0820_jpg.rf.e1c28d20ce5afaa45f51385a5a8180b7.txt  \n",
            " extracting: train/labels/IMG_0821_jpg.rf.7c1482bc5bfd9a1081e069085218d9a8.txt  \n",
            " extracting: train/labels/IMG_0821_jpg.rf.c2e1693e8a9f711df0d2dedbe4a8fa74.txt  \n",
            " extracting: train/labels/IMG_0821_jpg.rf.fddbd5d4a71350b81b1542037b8655cb.txt  \n",
            " extracting: train/labels/IMG_0822_jpg.rf.0cce06601dc4e66d51b21a41809e594b.txt  \n",
            " extracting: train/labels/IMG_0822_jpg.rf.6c21a0136fd8d958ff3ec1a104e23b77.txt  \n",
            " extracting: train/labels/IMG_0822_jpg.rf.abd741bb5855b8e275d8839f4f3ff6bc.txt  \n",
            " extracting: train/labels/IMG_0823_jpg.rf.37fb183aa979ad2376c0c0220533035c.txt  \n",
            " extracting: train/labels/IMG_0823_jpg.rf.98ed4c8a323697779331e7a3491912a0.txt  \n",
            " extracting: train/labels/IMG_0823_jpg.rf.db6f23ebfeafed9e13454ca8581b6eb0.txt  \n",
            " extracting: train/labels/IMG_0824_jpg.rf.6d7d10889d46015ff5b1d70d252ca936.txt  \n",
            " extracting: train/labels/IMG_0824_jpg.rf.a86b9c37e6391ed8a7c6849386747cc0.txt  \n",
            " extracting: train/labels/IMG_0824_jpg.rf.b75af11881e661282af69de95cea30ac.txt  \n",
            " extracting: train/labels/IMG_0825_jpg.rf.285e4f6d06ea1132a0ef7f477420232a.txt  \n",
            " extracting: train/labels/IMG_0825_jpg.rf.447519c0bdf958265f3149c40aa9cc46.txt  \n",
            " extracting: train/labels/IMG_0825_jpg.rf.cfa7b14a6a7375d50bbee137f1ae54c4.txt  \n",
            " extracting: train/labels/IMG_0826_jpg.rf.4aea9e37d4c091dc8f7fb6de6e267be1.txt  \n",
            " extracting: train/labels/IMG_0826_jpg.rf.affed67783c5debc1e83a2c3ff62d8b8.txt  \n",
            " extracting: train/labels/IMG_0826_jpg.rf.cf733343a0f39a4d00a4c6ca08cfd004.txt  \n",
            " extracting: train/labels/IMG_0827_jpg.rf.0b2f0097a56ae227a672bddc2dc1945e.txt  \n",
            " extracting: train/labels/IMG_0827_jpg.rf.f9bbf97308f977b81ef0b36441dd738f.txt  \n",
            " extracting: train/labels/IMG_0827_jpg.rf.fc79399b7f93c1c94fc369244e37d043.txt  \n",
            " extracting: train/labels/IMG_0828_jpg.rf.2e7ccb14273547f906f12db10804c792.txt  \n",
            " extracting: train/labels/IMG_0828_jpg.rf.533dac9c562cbdb9250af8cb4d340b3d.txt  \n",
            " extracting: train/labels/IMG_0828_jpg.rf.a0053034dd234c75341f5f3b1ec5c49b.txt  \n",
            " extracting: train/labels/IMG_0830_jpg.rf.29b4999892ce98c8e49e95138539fc76.txt  \n",
            " extracting: train/labels/IMG_0830_jpg.rf.77a3900be897dbc7f4ed0016a37f9a34.txt  \n",
            " extracting: train/labels/IMG_0830_jpg.rf.fa4172ab60708091bfca9ccce6c0bce6.txt  \n",
            " extracting: train/labels/IMG_0831_jpg.rf.24f13cd26a817d9f7447396cde9d52d9.txt  \n",
            " extracting: train/labels/IMG_0831_jpg.rf.5239f87e12143219b757f21d5581b24c.txt  \n",
            " extracting: train/labels/IMG_0831_jpg.rf.bc1fd3455b18c1cd289f63c2e505b8aa.txt  \n"
          ]
        }
      ]
    },
    {
      "cell_type": "markdown",
      "metadata": {
        "id": "ZY2VXXXu74w5"
      },
      "source": [
        "# 3. Train\n",
        "\n",
        "Now you will train your own dataset using YOLOv8"
      ]
    },
    {
      "cell_type": "code",
      "metadata": {
        "id": "1NcFxRcFdJ_O",
        "colab": {
          "base_uri": "https://localhost:8080/"
        },
        "outputId": "bb4a247f-ba8c-4ee5-ab27-bdd23db2e06c"
      },
      "source": [
        "# Train YOLOv8n on COCO8 for 4 epochs\n",
        "!yolo train model=yolov8m.pt data=data.yaml epochs=30 imgsz=640"
      ],
      "execution_count": 5,
      "outputs": [
        {
          "output_type": "stream",
          "name": "stdout",
          "text": [
            "Downloading https://github.com/ultralytics/assets/releases/download/v0.0.0/yolov8m.pt to 'yolov8m.pt'...\n",
            "100% 49.7M/49.7M [00:00<00:00, 334MB/s]\n",
            "Ultralytics YOLOv8.0.203 🚀 Python-3.10.12 torch-2.1.0+cu118 CUDA:0 (Tesla T4, 15102MiB)\n",
            "\u001b[34m\u001b[1mengine/trainer: \u001b[0mtask=detect, mode=train, model=yolov8m.pt, data=data.yaml, epochs=30, patience=50, batch=16, imgsz=640, save=True, save_period=-1, cache=False, device=None, workers=8, project=None, name=train, exist_ok=False, pretrained=True, optimizer=auto, verbose=True, seed=0, deterministic=True, single_cls=False, rect=False, cos_lr=False, close_mosaic=10, resume=False, amp=True, fraction=1.0, profile=False, freeze=None, overlap_mask=True, mask_ratio=4, dropout=0.0, val=True, split=val, save_json=False, save_hybrid=False, conf=None, iou=0.7, max_det=300, half=False, dnn=False, plots=True, source=None, show=False, save_txt=False, save_conf=False, save_crop=False, show_labels=True, show_conf=True, vid_stride=1, stream_buffer=False, line_width=None, visualize=False, augment=False, agnostic_nms=False, classes=None, retina_masks=False, boxes=True, format=torchscript, keras=False, optimize=False, int8=False, dynamic=False, simplify=False, opset=None, workspace=4, nms=False, lr0=0.01, lrf=0.01, momentum=0.937, weight_decay=0.0005, warmup_epochs=3.0, warmup_momentum=0.8, warmup_bias_lr=0.1, box=7.5, cls=0.5, dfl=1.5, pose=12.0, kobj=1.0, label_smoothing=0.0, nbs=64, hsv_h=0.015, hsv_s=0.7, hsv_v=0.4, degrees=0.0, translate=0.1, scale=0.5, shear=0.0, perspective=0.0, flipud=0.0, fliplr=0.5, mosaic=1.0, mixup=0.0, copy_paste=0.0, cfg=None, tracker=botsort.yaml, save_dir=runs/detect/train\n",
            "Downloading https://ultralytics.com/assets/Arial.ttf to '/root/.config/Ultralytics/Arial.ttf'...\n",
            "100% 755k/755k [00:00<00:00, 39.5MB/s]\n",
            "2023-10-30 15:24:31.819063: E tensorflow/compiler/xla/stream_executor/cuda/cuda_dnn.cc:9342] Unable to register cuDNN factory: Attempting to register factory for plugin cuDNN when one has already been registered\n",
            "2023-10-30 15:24:31.819124: E tensorflow/compiler/xla/stream_executor/cuda/cuda_fft.cc:609] Unable to register cuFFT factory: Attempting to register factory for plugin cuFFT when one has already been registered\n",
            "2023-10-30 15:24:31.819167: E tensorflow/compiler/xla/stream_executor/cuda/cuda_blas.cc:1518] Unable to register cuBLAS factory: Attempting to register factory for plugin cuBLAS when one has already been registered\n",
            "Overriding model.yaml nc=80 with nc=4\n",
            "\n",
            "                   from  n    params  module                                       arguments                     \n",
            "  0                  -1  1      1392  ultralytics.nn.modules.conv.Conv             [3, 48, 3, 2]                 \n",
            "  1                  -1  1     41664  ultralytics.nn.modules.conv.Conv             [48, 96, 3, 2]                \n",
            "  2                  -1  2    111360  ultralytics.nn.modules.block.C2f             [96, 96, 2, True]             \n",
            "  3                  -1  1    166272  ultralytics.nn.modules.conv.Conv             [96, 192, 3, 2]               \n",
            "  4                  -1  4    813312  ultralytics.nn.modules.block.C2f             [192, 192, 4, True]           \n",
            "  5                  -1  1    664320  ultralytics.nn.modules.conv.Conv             [192, 384, 3, 2]              \n",
            "  6                  -1  4   3248640  ultralytics.nn.modules.block.C2f             [384, 384, 4, True]           \n",
            "  7                  -1  1   1991808  ultralytics.nn.modules.conv.Conv             [384, 576, 3, 2]              \n",
            "  8                  -1  2   3985920  ultralytics.nn.modules.block.C2f             [576, 576, 2, True]           \n",
            "  9                  -1  1    831168  ultralytics.nn.modules.block.SPPF            [576, 576, 5]                 \n",
            " 10                  -1  1         0  torch.nn.modules.upsampling.Upsample         [None, 2, 'nearest']          \n",
            " 11             [-1, 6]  1         0  ultralytics.nn.modules.conv.Concat           [1]                           \n",
            " 12                  -1  2   1993728  ultralytics.nn.modules.block.C2f             [960, 384, 2]                 \n",
            " 13                  -1  1         0  torch.nn.modules.upsampling.Upsample         [None, 2, 'nearest']          \n",
            " 14             [-1, 4]  1         0  ultralytics.nn.modules.conv.Concat           [1]                           \n",
            " 15                  -1  2    517632  ultralytics.nn.modules.block.C2f             [576, 192, 2]                 \n",
            " 16                  -1  1    332160  ultralytics.nn.modules.conv.Conv             [192, 192, 3, 2]              \n",
            " 17            [-1, 12]  1         0  ultralytics.nn.modules.conv.Concat           [1]                           \n",
            " 18                  -1  2   1846272  ultralytics.nn.modules.block.C2f             [576, 384, 2]                 \n",
            " 19                  -1  1   1327872  ultralytics.nn.modules.conv.Conv             [384, 384, 3, 2]              \n",
            " 20             [-1, 9]  1         0  ultralytics.nn.modules.conv.Concat           [1]                           \n",
            " 21                  -1  2   4207104  ultralytics.nn.modules.block.C2f             [960, 576, 2]                 \n",
            " 22        [15, 18, 21]  1   3778012  ultralytics.nn.modules.head.Detect           [4, [192, 384, 576]]          \n",
            "Model summary: 295 layers, 25858636 parameters, 25858620 gradients, 79.1 GFLOPs\n",
            "\n",
            "Transferred 469/475 items from pretrained weights\n",
            "\u001b[34m\u001b[1mTensorBoard: \u001b[0mStart with 'tensorboard --logdir runs/detect/train', view at http://localhost:6006/\n",
            "Freezing layer 'model.22.dfl.conv.weight'\n",
            "\u001b[34m\u001b[1mAMP: \u001b[0mrunning Automatic Mixed Precision (AMP) checks with YOLOv8n...\n",
            "\u001b[34m\u001b[1mAMP: \u001b[0mchecks passed ✅\n",
            "\u001b[34m\u001b[1mtrain: \u001b[0mScanning /content/train/labels... 96 images, 0 backgrounds, 0 corrupt: 100% 96/96 [00:00<00:00, 1682.56it/s]\n",
            "\u001b[34m\u001b[1mtrain: \u001b[0mNew cache created: /content/train/labels.cache\n",
            "\u001b[34m\u001b[1malbumentations: \u001b[0mBlur(p=0.01, blur_limit=(3, 7)), MedianBlur(p=0.01, blur_limit=(3, 7)), ToGray(p=0.01), CLAHE(p=0.01, clip_limit=(1, 4.0), tile_grid_size=(8, 8))\n",
            "\u001b[34m\u001b[1mval: \u001b[0mScanning /content/valid/labels... 96 images, 0 backgrounds, 0 corrupt: 100% 96/96 [00:00<00:00, 1622.45it/s]\n",
            "\u001b[34m\u001b[1mval: \u001b[0mNew cache created: /content/valid/labels.cache\n",
            "Plotting labels to runs/detect/train/labels.jpg... \n",
            "\u001b[34m\u001b[1moptimizer:\u001b[0m 'optimizer=auto' found, ignoring 'lr0=0.01' and 'momentum=0.937' and determining best 'optimizer', 'lr0' and 'momentum' automatically... \n",
            "\u001b[34m\u001b[1moptimizer:\u001b[0m AdamW(lr=0.00125, momentum=0.9) with parameter groups 77 weight(decay=0.0), 84 weight(decay=0.0005), 83 bias(decay=0.0)\n",
            "Image sizes 640 train, 640 val\n",
            "Using 2 dataloader workers\n",
            "Logging results to \u001b[1mruns/detect/train\u001b[0m\n",
            "Starting training for 30 epochs...\n",
            "\n",
            "      Epoch    GPU_mem   box_loss   cls_loss   dfl_loss  Instances       Size\n",
            "       1/30      6.86G      1.516      3.246      1.654         81        640: 100% 6/6 [00:05<00:00,  1.06it/s]\n",
            "                 Class     Images  Instances      Box(P          R      mAP50  mAP50-95): 100% 3/3 [00:03<00:00,  1.03s/it]\n",
            "                   all         96        252      0.288        0.4       0.31      0.188\n",
            "\n",
            "      Epoch    GPU_mem   box_loss   cls_loss   dfl_loss  Instances       Size\n",
            "       2/30      6.88G      1.232      2.166      1.373         77        640: 100% 6/6 [00:03<00:00,  1.66it/s]\n",
            "                 Class     Images  Instances      Box(P          R      mAP50  mAP50-95): 100% 3/3 [00:04<00:00,  1.44s/it]\n",
            "                   all         96        252      0.572      0.795       0.62      0.441\n",
            "\n",
            "      Epoch    GPU_mem   box_loss   cls_loss   dfl_loss  Instances       Size\n",
            "       3/30      7.09G      1.044      1.447      1.195         88        640: 100% 6/6 [00:02<00:00,  2.06it/s]\n",
            "                 Class     Images  Instances      Box(P          R      mAP50  mAP50-95): 100% 3/3 [00:02<00:00,  1.39it/s]\n",
            "                   all         96        252      0.644      0.731      0.708      0.514\n",
            "\n",
            "      Epoch    GPU_mem   box_loss   cls_loss   dfl_loss  Instances       Size\n",
            "       4/30      7.12G      1.043      1.206      1.195         69        640: 100% 6/6 [00:02<00:00,  2.11it/s]\n",
            "                 Class     Images  Instances      Box(P          R      mAP50  mAP50-95): 100% 3/3 [00:01<00:00,  1.97it/s]\n",
            "                   all         96        252      0.844      0.808      0.873      0.633\n",
            "\n",
            "      Epoch    GPU_mem   box_loss   cls_loss   dfl_loss  Instances       Size\n",
            "       5/30      7.15G      1.037      1.169      1.174         81        640: 100% 6/6 [00:03<00:00,  1.94it/s]\n",
            "                 Class     Images  Instances      Box(P          R      mAP50  mAP50-95): 100% 3/3 [00:01<00:00,  2.05it/s]\n",
            "                   all         96        252       0.73      0.915       0.89      0.611\n",
            "\n",
            "      Epoch    GPU_mem   box_loss   cls_loss   dfl_loss  Instances       Size\n",
            "       6/30      7.13G      1.054      1.058      1.241        102        640: 100% 6/6 [00:02<00:00,  2.11it/s]\n",
            "                 Class     Images  Instances      Box(P          R      mAP50  mAP50-95): 100% 3/3 [00:01<00:00,  2.11it/s]\n",
            "                   all         96        252      0.642      0.765      0.741      0.535\n",
            "\n",
            "      Epoch    GPU_mem   box_loss   cls_loss   dfl_loss  Instances       Size\n",
            "       7/30      7.14G      1.094      1.117      1.208         85        640: 100% 6/6 [00:03<00:00,  1.92it/s]\n",
            "                 Class     Images  Instances      Box(P          R      mAP50  mAP50-95): 100% 3/3 [00:01<00:00,  1.71it/s]\n",
            "                   all         96        252      0.773      0.922      0.896      0.656\n",
            "\n",
            "      Epoch    GPU_mem   box_loss   cls_loss   dfl_loss  Instances       Size\n",
            "       8/30      7.14G      1.112      1.107      1.254         66        640: 100% 6/6 [00:02<00:00,  2.09it/s]\n",
            "                 Class     Images  Instances      Box(P          R      mAP50  mAP50-95): 100% 3/3 [00:01<00:00,  2.10it/s]\n",
            "                   all         96        252      0.566      0.917        0.8      0.546\n",
            "\n",
            "      Epoch    GPU_mem   box_loss   cls_loss   dfl_loss  Instances       Size\n",
            "       9/30      7.16G      1.119      1.082      1.237         73        640: 100% 6/6 [00:02<00:00,  2.00it/s]\n",
            "                 Class     Images  Instances      Box(P          R      mAP50  mAP50-95): 100% 3/3 [00:01<00:00,  1.52it/s]\n",
            "                   all         96        252      0.654      0.926      0.873      0.589\n",
            "\n",
            "      Epoch    GPU_mem   box_loss   cls_loss   dfl_loss  Instances       Size\n",
            "      10/30      7.09G      1.019     0.9494      1.201         73        640: 100% 6/6 [00:02<00:00,  2.13it/s]\n",
            "                 Class     Images  Instances      Box(P          R      mAP50  mAP50-95): 100% 3/3 [00:01<00:00,  2.17it/s]\n",
            "                   all         96        252       0.66       0.89       0.84      0.551\n",
            "\n",
            "      Epoch    GPU_mem   box_loss   cls_loss   dfl_loss  Instances       Size\n",
            "      11/30      7.11G       1.01     0.9354      1.234         81        640: 100% 6/6 [00:02<00:00,  2.12it/s]\n",
            "                 Class     Images  Instances      Box(P          R      mAP50  mAP50-95): 100% 3/3 [00:01<00:00,  1.89it/s]\n",
            "                   all         96        252      0.681      0.867      0.872      0.604\n",
            "\n",
            "      Epoch    GPU_mem   box_loss   cls_loss   dfl_loss  Instances       Size\n",
            "      12/30      7.09G     0.9637     0.8784      1.245         73        640: 100% 6/6 [00:02<00:00,  2.06it/s]\n",
            "                 Class     Images  Instances      Box(P          R      mAP50  mAP50-95): 100% 3/3 [00:01<00:00,  2.13it/s]\n",
            "                   all         96        252       0.69      0.849      0.853       0.57\n",
            "\n",
            "      Epoch    GPU_mem   box_loss   cls_loss   dfl_loss  Instances       Size\n",
            "      13/30       7.1G      0.994     0.9507      1.194         97        640: 100% 6/6 [00:02<00:00,  2.11it/s]\n",
            "                 Class     Images  Instances      Box(P          R      mAP50  mAP50-95): 100% 3/3 [00:01<00:00,  2.15it/s]\n",
            "                   all         96        252      0.582      0.722      0.656      0.388\n",
            "\n",
            "      Epoch    GPU_mem   box_loss   cls_loss   dfl_loss  Instances       Size\n",
            "      14/30      7.09G     0.9383     0.8638      1.175         92        640: 100% 6/6 [00:03<00:00,  1.89it/s]\n",
            "                 Class     Images  Instances      Box(P          R      mAP50  mAP50-95): 100% 3/3 [00:01<00:00,  1.77it/s]\n",
            "                   all         96        252      0.565      0.863      0.749        0.5\n",
            "\n",
            "      Epoch    GPU_mem   box_loss   cls_loss   dfl_loss  Instances       Size\n",
            "      15/30      7.09G     0.9881     0.7698      1.191         91        640: 100% 6/6 [00:02<00:00,  2.13it/s]\n",
            "                 Class     Images  Instances      Box(P          R      mAP50  mAP50-95): 100% 3/3 [00:01<00:00,  2.14it/s]\n",
            "                   all         96        252      0.655      0.808      0.799      0.497\n",
            "\n",
            "      Epoch    GPU_mem   box_loss   cls_loss   dfl_loss  Instances       Size\n",
            "      16/30      7.14G      1.111     0.9136       1.29         66        640: 100% 6/6 [00:02<00:00,  2.11it/s]\n",
            "                 Class     Images  Instances      Box(P          R      mAP50  mAP50-95): 100% 3/3 [00:01<00:00,  1.57it/s]\n",
            "                   all         96        252      0.854      0.691      0.825      0.582\n",
            "\n",
            "      Epoch    GPU_mem   box_loss   cls_loss   dfl_loss  Instances       Size\n",
            "      17/30       7.1G     0.9364     0.7748      1.174         79        640: 100% 6/6 [00:02<00:00,  2.13it/s]\n",
            "                 Class     Images  Instances      Box(P          R      mAP50  mAP50-95): 100% 3/3 [00:01<00:00,  2.17it/s]\n",
            "                   all         96        252      0.807      0.811      0.885      0.595\n",
            "\n",
            "      Epoch    GPU_mem   box_loss   cls_loss   dfl_loss  Instances       Size\n",
            "      18/30      7.13G     0.9739      0.727      1.187         88        640: 100% 6/6 [00:02<00:00,  2.10it/s]\n",
            "                 Class     Images  Instances      Box(P          R      mAP50  mAP50-95): 100% 3/3 [00:01<00:00,  2.12it/s]\n",
            "                   all         96        252      0.862      0.893      0.933      0.698\n",
            "\n",
            "      Epoch    GPU_mem   box_loss   cls_loss   dfl_loss  Instances       Size\n",
            "      19/30      7.09G     0.9162     0.7207      1.233         77        640: 100% 6/6 [00:02<00:00,  2.08it/s]\n",
            "                 Class     Images  Instances      Box(P          R      mAP50  mAP50-95): 100% 3/3 [00:01<00:00,  2.17it/s]\n",
            "                   all         96        252      0.926      0.918      0.968      0.741\n",
            "\n",
            "      Epoch    GPU_mem   box_loss   cls_loss   dfl_loss  Instances       Size\n",
            "      20/30      7.12G     0.9472     0.7423      1.186        101        640: 100% 6/6 [00:02<00:00,  2.08it/s]\n",
            "                 Class     Images  Instances      Box(P          R      mAP50  mAP50-95): 100% 3/3 [00:01<00:00,  2.11it/s]\n",
            "                   all         96        252      0.894      0.874      0.944       0.66\n",
            "Closing dataloader mosaic\n",
            "\u001b[34m\u001b[1malbumentations: \u001b[0mBlur(p=0.01, blur_limit=(3, 7)), MedianBlur(p=0.01, blur_limit=(3, 7)), ToGray(p=0.01), CLAHE(p=0.01, clip_limit=(1, 4.0), tile_grid_size=(8, 8))\n",
            "\n",
            "      Epoch    GPU_mem   box_loss   cls_loss   dfl_loss  Instances       Size\n",
            "      21/30      7.07G     0.8228     0.6862      1.113         44        640: 100% 6/6 [00:05<00:00,  1.09it/s]\n",
            "                 Class     Images  Instances      Box(P          R      mAP50  mAP50-95): 100% 3/3 [00:01<00:00,  2.15it/s]\n",
            "                   all         96        252      0.851      0.855      0.913       0.66\n",
            "\n",
            "      Epoch    GPU_mem   box_loss   cls_loss   dfl_loss  Instances       Size\n",
            "      22/30      7.11G     0.8126     0.6262      1.109         40        640: 100% 6/6 [00:02<00:00,  2.11it/s]\n",
            "                 Class     Images  Instances      Box(P          R      mAP50  mAP50-95): 100% 3/3 [00:01<00:00,  1.96it/s]\n",
            "                   all         96        252      0.904      0.935      0.958      0.766\n",
            "\n",
            "      Epoch    GPU_mem   box_loss   cls_loss   dfl_loss  Instances       Size\n",
            "      23/30      7.07G     0.7309     0.5834       1.05         44        640: 100% 6/6 [00:02<00:00,  2.13it/s]\n",
            "                 Class     Images  Instances      Box(P          R      mAP50  mAP50-95): 100% 3/3 [00:01<00:00,  2.11it/s]\n",
            "                   all         96        252      0.918      0.968      0.974      0.797\n",
            "\n",
            "      Epoch    GPU_mem   box_loss   cls_loss   dfl_loss  Instances       Size\n",
            "      24/30      7.12G     0.7863     0.5546      1.077         46        640: 100% 6/6 [00:02<00:00,  2.08it/s]\n",
            "                 Class     Images  Instances      Box(P          R      mAP50  mAP50-95): 100% 3/3 [00:01<00:00,  1.71it/s]\n",
            "                   all         96        252      0.943      0.985      0.988      0.796\n",
            "\n",
            "      Epoch    GPU_mem   box_loss   cls_loss   dfl_loss  Instances       Size\n",
            "      25/30      7.07G     0.7308     0.5312       1.05         44        640: 100% 6/6 [00:02<00:00,  2.13it/s]\n",
            "                 Class     Images  Instances      Box(P          R      mAP50  mAP50-95): 100% 3/3 [00:01<00:00,  2.14it/s]\n",
            "                   all         96        252      0.967      0.973       0.99      0.809\n",
            "\n",
            "      Epoch    GPU_mem   box_loss   cls_loss   dfl_loss  Instances       Size\n",
            "      26/30       7.1G     0.7027     0.5207      1.008         41        640: 100% 6/6 [00:02<00:00,  2.08it/s]\n",
            "                 Class     Images  Instances      Box(P          R      mAP50  mAP50-95): 100% 3/3 [00:01<00:00,  1.53it/s]\n",
            "                   all         96        252      0.985      0.968      0.994       0.82\n",
            "\n",
            "      Epoch    GPU_mem   box_loss   cls_loss   dfl_loss  Instances       Size\n",
            "      27/30      7.07G     0.7279     0.5065      1.036         43        640: 100% 6/6 [00:02<00:00,  2.11it/s]\n",
            "                 Class     Images  Instances      Box(P          R      mAP50  mAP50-95): 100% 3/3 [00:01<00:00,  2.17it/s]\n",
            "                   all         96        252      0.994      0.991      0.995      0.831\n",
            "\n",
            "      Epoch    GPU_mem   box_loss   cls_loss   dfl_loss  Instances       Size\n",
            "      28/30      7.11G      0.695     0.5021      1.006         43        640: 100% 6/6 [00:03<00:00,  1.98it/s]\n",
            "                 Class     Images  Instances      Box(P          R      mAP50  mAP50-95): 100% 3/3 [00:02<00:00,  1.47it/s]\n",
            "                   all         96        252      0.995          1      0.995      0.837\n",
            "\n",
            "      Epoch    GPU_mem   box_loss   cls_loss   dfl_loss  Instances       Size\n",
            "      29/30      7.07G      0.668      0.465     0.9969         43        640: 100% 6/6 [00:02<00:00,  2.11it/s]\n",
            "                 Class     Images  Instances      Box(P          R      mAP50  mAP50-95): 100% 3/3 [00:01<00:00,  2.13it/s]\n",
            "                   all         96        252      0.996          1      0.995      0.839\n",
            "\n",
            "      Epoch    GPU_mem   box_loss   cls_loss   dfl_loss  Instances       Size\n",
            "      30/30       7.1G     0.6604     0.4695     0.9956         48        640: 100% 6/6 [00:02<00:00,  2.08it/s]\n",
            "                 Class     Images  Instances      Box(P          R      mAP50  mAP50-95): 100% 3/3 [00:01<00:00,  2.11it/s]\n",
            "                   all         96        252      0.997          1      0.995       0.84\n",
            "\n",
            "30 epochs completed in 0.061 hours.\n",
            "Optimizer stripped from runs/detect/train/weights/last.pt, 52.0MB\n",
            "Optimizer stripped from runs/detect/train/weights/best.pt, 52.0MB\n",
            "\n",
            "Validating runs/detect/train/weights/best.pt...\n",
            "Ultralytics YOLOv8.0.203 🚀 Python-3.10.12 torch-2.1.0+cu118 CUDA:0 (Tesla T4, 15102MiB)\n",
            "Model summary (fused): 218 layers, 25842076 parameters, 0 gradients, 78.7 GFLOPs\n",
            "                 Class     Images  Instances      Box(P          R      mAP50  mAP50-95): 100% 3/3 [00:03<00:00,  1.01s/it]\n",
            "                   all         96        252      0.997          1      0.995      0.839\n",
            "medicine-product magnesium back         96         63      0.999          1      0.995      0.826\n",
            "medicine-product magnesium         96         21      0.991          1      0.995      0.873\n",
            "medicine-product nasenspulsalz back         96        117      0.998          1      0.995      0.825\n",
            "medicine-product nasenspulsalz         96         51      0.998          1      0.995      0.834\n",
            "Speed: 0.2ms preprocess, 10.2ms inference, 0.0ms loss, 2.8ms postprocess per image\n",
            "Results saved to \u001b[1mruns/detect/train\u001b[0m\n",
            "💡 Learn more at https://docs.ultralytics.com/modes/train\n"
          ]
        }
      ]
    },
    {
      "cell_type": "markdown",
      "source": [
        "# Run inference on custom images\n",
        "Now it is time to see how the model performs on images it has never seen before.\n",
        "If you have some validation images you could use those, or you can upload a few that you didn't use in your dataset.\n",
        "\n",
        "If you run inference on images from your train set you can expect results to be quite good, but keep in mind that this is not a fair indication of the actual performance."
      ],
      "metadata": {
        "id": "ye0xIy4_L5ll"
      }
    },
    {
      "cell_type": "code",
      "source": [
        "import os\n",
        "traindirs = os.listdir(\"/content/runs/detect/\")\n",
        "traindirs = sorted(traindirs)\n",
        "# Get the weights from the last training run\n",
        "traindir = traindirs[-1]\n",
        "print(traindir)\n",
        "\n",
        "model = YOLO(f\"/content/runs/detect/{traindir}/weights/last.pt\")\n",
        "results = model.predict(source=\"/content/train/images\", show=False, save=True) # Display preds. Accepts all YOLO predict arguments"
      ],
      "metadata": {
        "id": "DRwyS52lLvUm",
        "colab": {
          "base_uri": "https://localhost:8080/"
        },
        "outputId": "00b606ec-5794-49e3-cfae-d6d697b70b94"
      },
      "execution_count": 6,
      "outputs": [
        {
          "output_type": "stream",
          "name": "stdout",
          "text": [
            "train\n"
          ]
        },
        {
          "output_type": "stream",
          "name": "stderr",
          "text": [
            "\n",
            "image 1/96 /content/train/images/IMG_0792_jpg.rf.1b4dbba9294d872bbd977cd307da83cb.jpg: 640x640 1 medicine-product nasenspulsalz back, 38.8ms\n",
            "image 2/96 /content/train/images/IMG_0792_jpg.rf.2e9c82948a1cc450e24286c6c99d3f87.jpg: 640x640 1 medicine-product nasenspulsalz back, 42.8ms\n",
            "image 3/96 /content/train/images/IMG_0792_jpg.rf.ead072bbff2d692bdee425210e5ef860.jpg: 640x640 1 medicine-product nasenspulsalz back, 36.6ms\n",
            "image 4/96 /content/train/images/IMG_0793_jpg.rf.2682760b20b287d63e5d198095e4433c.jpg: 640x640 1 medicine-product nasenspulsalz, 36.2ms\n",
            "image 5/96 /content/train/images/IMG_0793_jpg.rf.4e79a18ec808950046495d1d82107775.jpg: 640x640 1 medicine-product nasenspulsalz, 36.2ms\n",
            "image 6/96 /content/train/images/IMG_0793_jpg.rf.d53cfd5ddaea1eaa9affa7beccaeb0b3.jpg: 640x640 1 medicine-product nasenspulsalz, 36.2ms\n",
            "image 7/96 /content/train/images/IMG_0794_jpg.rf.87bcd4ebf76890e14faad2a347e23732.jpg: 640x640 1 medicine-product nasenspulsalz, 28.1ms\n",
            "image 8/96 /content/train/images/IMG_0794_jpg.rf.9f08345d70d91d9fa9654d607d1df457.jpg: 640x640 1 medicine-product nasenspulsalz, 28.1ms\n",
            "image 9/96 /content/train/images/IMG_0794_jpg.rf.fad42d222645a5db838c0491b61dfc2e.jpg: 640x640 1 medicine-product nasenspulsalz, 27.9ms\n",
            "image 10/96 /content/train/images/IMG_0796_jpg.rf.53fa2da3b463f46f9a46c4b17d78c2b3.jpg: 640x640 2 medicine-product nasenspulsalz backs, 1 medicine-product nasenspulsalz, 26.9ms\n",
            "image 11/96 /content/train/images/IMG_0796_jpg.rf.d2d03d44b542da871aa74148f8c0a882.jpg: 640x640 2 medicine-product nasenspulsalz backs, 1 medicine-product nasenspulsalz, 29.3ms\n",
            "image 12/96 /content/train/images/IMG_0796_jpg.rf.df643ab1494cf3909a747e6dbad8b369.jpg: 640x640 2 medicine-product nasenspulsalz backs, 1 medicine-product nasenspulsalz, 26.4ms\n",
            "image 13/96 /content/train/images/IMG_0797_jpg.rf.0340f06c8b39f47d296c58bb41fb2256.jpg: 640x640 1 medicine-product magnesium back, 2 medicine-product nasenspulsalz backs, 1 medicine-product nasenspulsalz, 25.7ms\n",
            "image 14/96 /content/train/images/IMG_0797_jpg.rf.adfdeaefccd884de7976f56d8290782c.jpg: 640x640 1 medicine-product magnesium back, 2 medicine-product nasenspulsalz backs, 1 medicine-product nasenspulsalz, 25.5ms\n",
            "image 15/96 /content/train/images/IMG_0797_jpg.rf.d0ef73962b1cd55687ecf85d0d74664f.jpg: 640x640 1 medicine-product magnesium back, 2 medicine-product nasenspulsalz backs, 1 medicine-product nasenspulsalz, 24.5ms\n",
            "image 16/96 /content/train/images/IMG_0802_jpg.rf.183452ecc2302de056db88db9e087192.jpg: 640x640 1 medicine-product magnesium back, 24.6ms\n",
            "image 17/96 /content/train/images/IMG_0802_jpg.rf.29b03d6d078cc53d7bfd0f07f471cd17.jpg: 640x640 1 medicine-product magnesium back, 22.0ms\n",
            "image 18/96 /content/train/images/IMG_0802_jpg.rf.a6a70c19a45d02f4b46683050fc39662.jpg: 640x640 1 medicine-product magnesium back, 21.8ms\n",
            "image 19/96 /content/train/images/IMG_0804_jpg.rf.ab47b504d4f4ff33c64601ef9ba71081.jpg: 640x640 1 medicine-product magnesium back, 1 medicine-product nasenspulsalz back, 21.3ms\n",
            "image 20/96 /content/train/images/IMG_0804_jpg.rf.bc71cf337610fadfcb2ff04efb965caa.jpg: 640x640 1 medicine-product magnesium back, 1 medicine-product nasenspulsalz back, 21.3ms\n",
            "image 21/96 /content/train/images/IMG_0804_jpg.rf.facc0bd182f98d6cc36b4c457bfbf137.jpg: 640x640 1 medicine-product magnesium back, 1 medicine-product nasenspulsalz back, 20.9ms\n",
            "image 22/96 /content/train/images/IMG_0805_jpg.rf.1819e07f49ceee5bc77def5f8c4ced34.jpg: 640x640 1 medicine-product magnesium, 1 medicine-product nasenspulsalz, 21.0ms\n",
            "image 23/96 /content/train/images/IMG_0805_jpg.rf.4b705b7888170af08187877b339026d1.jpg: 640x640 1 medicine-product magnesium, 1 medicine-product nasenspulsalz, 20.4ms\n",
            "image 24/96 /content/train/images/IMG_0805_jpg.rf.51921beb7e96b0387f6adce446c4cc21.jpg: 640x640 1 medicine-product magnesium, 1 medicine-product nasenspulsalz, 20.4ms\n",
            "image 25/96 /content/train/images/IMG_0806_jpg.rf.1c913f1c5a9760f98bb9a5829b75745d.jpg: 640x640 1 medicine-product magnesium back, 1 medicine-product nasenspulsalz back, 20.4ms\n",
            "image 26/96 /content/train/images/IMG_0806_jpg.rf.1ecb17b5658986fd4a4a9f00936edd87.jpg: 640x640 1 medicine-product magnesium back, 1 medicine-product nasenspulsalz back, 20.4ms\n",
            "image 27/96 /content/train/images/IMG_0806_jpg.rf.8cbf389bac44910053c481b0aa680168.jpg: 640x640 1 medicine-product magnesium back, 1 medicine-product nasenspulsalz back, 20.4ms\n",
            "image 28/96 /content/train/images/IMG_0807_jpg.rf.740dfb3a04f52132bf7a7621d88255d2.jpg: 640x640 1 medicine-product magnesium back, 1 medicine-product nasenspulsalz back, 20.4ms\n",
            "image 29/96 /content/train/images/IMG_0807_jpg.rf.988ae267e3892e7ee7d6942bfe34d743.jpg: 640x640 1 medicine-product magnesium back, 1 medicine-product nasenspulsalz back, 20.3ms\n",
            "image 30/96 /content/train/images/IMG_0807_jpg.rf.a3df929cc39fc78f69e38ecd2fcdf9eb.jpg: 640x640 1 medicine-product magnesium back, 1 medicine-product nasenspulsalz back, 20.4ms\n",
            "image 31/96 /content/train/images/IMG_0808_jpg.rf.298ff36a0235423f5a481944f77af7da.jpg: 640x640 1 medicine-product magnesium back, 1 medicine-product nasenspulsalz back, 20.3ms\n",
            "image 32/96 /content/train/images/IMG_0808_jpg.rf.b90044084e9aa89afbbdf37545bf2e4b.jpg: 640x640 1 medicine-product magnesium back, 1 medicine-product nasenspulsalz back, 20.6ms\n",
            "image 33/96 /content/train/images/IMG_0808_jpg.rf.d49b6a51786f3359edd4d0665ba2c165.jpg: 640x640 1 medicine-product magnesium back, 1 medicine-product nasenspulsalz back, 17.9ms\n",
            "image 34/96 /content/train/images/IMG_0809_jpg.rf.5044bc23e443d3df328f58973fd726b3.jpg: 640x640 1 medicine-product magnesium back, 2 medicine-product nasenspulsalz backs, 17.5ms\n",
            "image 35/96 /content/train/images/IMG_0809_jpg.rf.55c0631ddc96228af73fac93ffd440a8.jpg: 640x640 1 medicine-product magnesium back, 2 medicine-product nasenspulsalz backs, 17.6ms\n",
            "image 36/96 /content/train/images/IMG_0809_jpg.rf.9ddde033fc6955eb0f3013af143cf223.jpg: 640x640 1 medicine-product magnesium back, 2 medicine-product nasenspulsalz backs, 17.8ms\n",
            "image 37/96 /content/train/images/IMG_0810_jpg.rf.49008d75bc179ef249917f24d589d558.jpg: 640x640 1 medicine-product magnesium back, 2 medicine-product nasenspulsalz backs, 18.1ms\n",
            "image 38/96 /content/train/images/IMG_0810_jpg.rf.6f376fae7b8abb8da8d34ffdb0b3f55b.jpg: 640x640 1 medicine-product magnesium back, 2 medicine-product nasenspulsalz backs, 18.7ms\n",
            "image 39/96 /content/train/images/IMG_0810_jpg.rf.a23a70c4dbf4d3503deb5437218ca2ed.jpg: 640x640 1 medicine-product magnesium back, 2 medicine-product nasenspulsalz backs, 18.1ms\n",
            "image 40/96 /content/train/images/IMG_0812_jpg.rf.0af9c07fd03a833febcfb30cd622227f.jpg: 640x640 1 medicine-product magnesium back, 2 medicine-product nasenspulsalz backs, 18.0ms\n",
            "image 41/96 /content/train/images/IMG_0812_jpg.rf.6becd5200c2fb8ca1c47ea5b9193a60b.jpg: 640x640 1 medicine-product magnesium back, 2 medicine-product nasenspulsalz backs, 17.6ms\n",
            "image 42/96 /content/train/images/IMG_0812_jpg.rf.88fd09a618fce0f25d039ebaaa731a85.jpg: 640x640 1 medicine-product magnesium back, 2 medicine-product nasenspulsalz backs, 17.4ms\n",
            "image 43/96 /content/train/images/IMG_0813_jpg.rf.0776df2e48c2363a79c2ac92791a8033.jpg: 640x640 1 medicine-product magnesium back, 2 medicine-product nasenspulsalz backs, 17.4ms\n",
            "image 44/96 /content/train/images/IMG_0813_jpg.rf.39a3d5541f84807f354c9919c2e749e4.jpg: 640x640 1 medicine-product magnesium back, 2 medicine-product nasenspulsalz backs, 17.9ms\n",
            "image 45/96 /content/train/images/IMG_0813_jpg.rf.fad5a153f092fa32681a1fc4f51b3b9e.jpg: 640x640 1 medicine-product magnesium back, 2 medicine-product nasenspulsalz backs, 17.8ms\n",
            "image 46/96 /content/train/images/IMG_0814_jpg.rf.3d638618dda069bea3ebc08d68b586d3.jpg: 640x640 1 medicine-product magnesium back, 2 medicine-product nasenspulsalz backs, 17.9ms\n",
            "image 47/96 /content/train/images/IMG_0814_jpg.rf.765e0400e351769cacf841d7fa469a77.jpg: 640x640 1 medicine-product magnesium back, 2 medicine-product nasenspulsalz backs, 17.9ms\n",
            "image 48/96 /content/train/images/IMG_0814_jpg.rf.bf897a8e6ec65c2a3ec93a7cda503027.jpg: 640x640 1 medicine-product magnesium back, 2 medicine-product nasenspulsalz backs, 18.3ms\n",
            "image 49/96 /content/train/images/IMG_0815_jpg.rf.16b42f597f828801b831f1713afab767.jpg: 640x640 1 medicine-product magnesium, 2 medicine-product nasenspulsalzs, 18.2ms\n",
            "image 50/96 /content/train/images/IMG_0815_jpg.rf.43c5067021c7575036eb24bbfe4c1597.jpg: 640x640 1 medicine-product magnesium, 2 medicine-product nasenspulsalzs, 18.3ms\n",
            "image 51/96 /content/train/images/IMG_0815_jpg.rf.dbf1bc8e2d4e1a6a91b4d6ef8909ed75.jpg: 640x640 1 medicine-product magnesium, 2 medicine-product nasenspulsalzs, 18.2ms\n",
            "image 52/96 /content/train/images/IMG_0816_jpg.rf.04262d901932335af126e3fb10f8de0f.jpg: 640x640 1 medicine-product magnesium, 2 medicine-product nasenspulsalzs, 18.0ms\n",
            "image 53/96 /content/train/images/IMG_0816_jpg.rf.1c18542ff010808420f91a6c4352e3bc.jpg: 640x640 1 medicine-product magnesium, 2 medicine-product nasenspulsalzs, 17.5ms\n",
            "image 54/96 /content/train/images/IMG_0816_jpg.rf.867aa477d407f583370c11310048616e.jpg: 640x640 1 medicine-product magnesium, 2 medicine-product nasenspulsalzs, 17.4ms\n",
            "image 55/96 /content/train/images/IMG_0817_jpg.rf.015fc1bbc3496b8bbb51f9f15b3b1935.jpg: 640x640 1 medicine-product magnesium, 2 medicine-product nasenspulsalzs, 17.3ms\n",
            "image 56/96 /content/train/images/IMG_0817_jpg.rf.b64da7e41de1ab8a93ceca33a7718a20.jpg: 640x640 1 medicine-product magnesium, 2 medicine-product nasenspulsalzs, 17.8ms\n",
            "image 57/96 /content/train/images/IMG_0817_jpg.rf.c0575c12d0ef20a92c167d07c24f24ee.jpg: 640x640 1 medicine-product magnesium, 2 medicine-product nasenspulsalzs, 17.9ms\n",
            "image 58/96 /content/train/images/IMG_0818_jpg.rf.bafe9e38dac2c22fb93876cb283b89e0.jpg: 640x640 1 medicine-product magnesium, 2 medicine-product nasenspulsalzs, 17.6ms\n",
            "image 59/96 /content/train/images/IMG_0818_jpg.rf.cf3c91b58cfd6f4a9949f670a231974b.jpg: 640x640 1 medicine-product magnesium, 2 medicine-product nasenspulsalzs, 18.0ms\n",
            "image 60/96 /content/train/images/IMG_0818_jpg.rf.ead825783d5dad2923bb6df7554ade41.jpg: 640x640 1 medicine-product magnesium, 2 medicine-product nasenspulsalzs, 17.8ms\n",
            "image 61/96 /content/train/images/IMG_0819_jpg.rf.171782a889e39cdc4bf1830e9aaab2d5.jpg: 640x640 1 medicine-product magnesium, 2 medicine-product nasenspulsalzs, 18.2ms\n",
            "image 62/96 /content/train/images/IMG_0819_jpg.rf.5cfb1bfae40af26f23cd830e49044a4e.jpg: 640x640 1 medicine-product magnesium, 2 medicine-product nasenspulsalzs, 18.5ms\n",
            "image 63/96 /content/train/images/IMG_0819_jpg.rf.722e5c0a6a79b0f23e4ab851abc9f3da.jpg: 640x640 1 medicine-product magnesium, 2 medicine-product nasenspulsalzs, 18.0ms\n",
            "image 64/96 /content/train/images/IMG_0820_jpg.rf.1545fe6a1b4ee8a38f42a4f7e20dc27a.jpg: 640x640 1 medicine-product magnesium, 2 medicine-product nasenspulsalzs, 17.6ms\n",
            "image 65/96 /content/train/images/IMG_0820_jpg.rf.b778893f11dfe6f388df0e74a07f3758.jpg: 640x640 1 medicine-product magnesium, 2 medicine-product nasenspulsalzs, 17.4ms\n",
            "image 66/96 /content/train/images/IMG_0820_jpg.rf.e1c28d20ce5afaa45f51385a5a8180b7.jpg: 640x640 1 medicine-product magnesium, 2 medicine-product nasenspulsalzs, 17.4ms\n",
            "image 67/96 /content/train/images/IMG_0821_jpg.rf.7c1482bc5bfd9a1081e069085218d9a8.jpg: 640x640 1 medicine-product magnesium back, 2 medicine-product nasenspulsalz backs, 17.4ms\n",
            "image 68/96 /content/train/images/IMG_0821_jpg.rf.c2e1693e8a9f711df0d2dedbe4a8fa74.jpg: 640x640 1 medicine-product magnesium back, 2 medicine-product nasenspulsalz backs, 17.7ms\n",
            "image 69/96 /content/train/images/IMG_0821_jpg.rf.fddbd5d4a71350b81b1542037b8655cb.jpg: 640x640 1 medicine-product magnesium back, 2 medicine-product nasenspulsalz backs, 17.9ms\n",
            "image 70/96 /content/train/images/IMG_0822_jpg.rf.0cce06601dc4e66d51b21a41809e594b.jpg: 640x640 1 medicine-product magnesium back, 2 medicine-product nasenspulsalz backs, 18.4ms\n",
            "image 71/96 /content/train/images/IMG_0822_jpg.rf.6c21a0136fd8d958ff3ec1a104e23b77.jpg: 640x640 1 medicine-product magnesium back, 2 medicine-product nasenspulsalz backs, 18.3ms\n",
            "image 72/96 /content/train/images/IMG_0822_jpg.rf.abd741bb5855b8e275d8839f4f3ff6bc.jpg: 640x640 1 medicine-product magnesium back, 2 medicine-product nasenspulsalz backs, 17.8ms\n",
            "image 73/96 /content/train/images/IMG_0823_jpg.rf.37fb183aa979ad2376c0c0220533035c.jpg: 640x640 1 medicine-product magnesium back, 2 medicine-product nasenspulsalz backs, 17.7ms\n",
            "image 74/96 /content/train/images/IMG_0823_jpg.rf.98ed4c8a323697779331e7a3491912a0.jpg: 640x640 1 medicine-product magnesium back, 2 medicine-product nasenspulsalz backs, 17.4ms\n",
            "image 75/96 /content/train/images/IMG_0823_jpg.rf.db6f23ebfeafed9e13454ca8581b6eb0.jpg: 640x640 1 medicine-product magnesium back, 2 medicine-product nasenspulsalz backs, 17.5ms\n",
            "image 76/96 /content/train/images/IMG_0824_jpg.rf.6d7d10889d46015ff5b1d70d252ca936.jpg: 640x640 1 medicine-product magnesium back, 2 medicine-product nasenspulsalz backs, 17.4ms\n",
            "image 77/96 /content/train/images/IMG_0824_jpg.rf.a86b9c37e6391ed8a7c6849386747cc0.jpg: 640x640 1 medicine-product magnesium back, 2 medicine-product nasenspulsalz backs, 17.8ms\n",
            "image 78/96 /content/train/images/IMG_0824_jpg.rf.b75af11881e661282af69de95cea30ac.jpg: 640x640 1 medicine-product magnesium back, 2 medicine-product nasenspulsalz backs, 17.5ms\n",
            "image 79/96 /content/train/images/IMG_0825_jpg.rf.285e4f6d06ea1132a0ef7f477420232a.jpg: 640x640 1 medicine-product magnesium back, 2 medicine-product nasenspulsalz backs, 17.8ms\n",
            "image 80/96 /content/train/images/IMG_0825_jpg.rf.447519c0bdf958265f3149c40aa9cc46.jpg: 640x640 1 medicine-product magnesium back, 2 medicine-product nasenspulsalz backs, 18.3ms\n",
            "image 81/96 /content/train/images/IMG_0825_jpg.rf.cfa7b14a6a7375d50bbee137f1ae54c4.jpg: 640x640 1 medicine-product magnesium back, 2 medicine-product nasenspulsalz backs, 17.8ms\n",
            "image 82/96 /content/train/images/IMG_0826_jpg.rf.4aea9e37d4c091dc8f7fb6de6e267be1.jpg: 640x640 1 medicine-product magnesium back, 2 medicine-product nasenspulsalz backs, 18.4ms\n",
            "image 83/96 /content/train/images/IMG_0826_jpg.rf.affed67783c5debc1e83a2c3ff62d8b8.jpg: 640x640 1 medicine-product magnesium back, 2 medicine-product nasenspulsalz backs, 18.1ms\n",
            "image 84/96 /content/train/images/IMG_0826_jpg.rf.cf733343a0f39a4d00a4c6ca08cfd004.jpg: 640x640 1 medicine-product magnesium back, 2 medicine-product nasenspulsalz backs, 17.8ms\n",
            "image 85/96 /content/train/images/IMG_0827_jpg.rf.0b2f0097a56ae227a672bddc2dc1945e.jpg: 640x640 1 medicine-product magnesium back, 2 medicine-product nasenspulsalz backs, 17.8ms\n",
            "image 86/96 /content/train/images/IMG_0827_jpg.rf.f9bbf97308f977b81ef0b36441dd738f.jpg: 640x640 1 medicine-product magnesium back, 2 medicine-product nasenspulsalz backs, 17.3ms\n",
            "image 87/96 /content/train/images/IMG_0827_jpg.rf.fc79399b7f93c1c94fc369244e37d043.jpg: 640x640 1 medicine-product magnesium back, 2 medicine-product nasenspulsalz backs, 17.3ms\n",
            "image 88/96 /content/train/images/IMG_0828_jpg.rf.2e7ccb14273547f906f12db10804c792.jpg: 640x640 1 medicine-product magnesium back, 2 medicine-product nasenspulsalz backs, 17.3ms\n",
            "image 89/96 /content/train/images/IMG_0828_jpg.rf.533dac9c562cbdb9250af8cb4d340b3d.jpg: 640x640 1 medicine-product magnesium back, 2 medicine-product nasenspulsalz backs, 17.4ms\n",
            "image 90/96 /content/train/images/IMG_0828_jpg.rf.a0053034dd234c75341f5f3b1ec5c49b.jpg: 640x640 1 medicine-product magnesium back, 2 medicine-product nasenspulsalz backs, 17.5ms\n",
            "image 91/96 /content/train/images/IMG_0830_jpg.rf.29b4999892ce98c8e49e95138539fc76.jpg: 640x640 1 medicine-product magnesium back, 2 medicine-product nasenspulsalz backs, 17.8ms\n",
            "image 92/96 /content/train/images/IMG_0830_jpg.rf.77a3900be897dbc7f4ed0016a37f9a34.jpg: 640x640 1 medicine-product magnesium back, 2 medicine-product nasenspulsalz backs, 17.9ms\n",
            "image 93/96 /content/train/images/IMG_0830_jpg.rf.fa4172ab60708091bfca9ccce6c0bce6.jpg: 640x640 1 medicine-product magnesium back, 4 medicine-product nasenspulsalz backs, 18.0ms\n",
            "image 94/96 /content/train/images/IMG_0831_jpg.rf.24f13cd26a817d9f7447396cde9d52d9.jpg: 640x640 1 medicine-product magnesium back, 2 medicine-product nasenspulsalz backs, 18.3ms\n",
            "image 95/96 /content/train/images/IMG_0831_jpg.rf.5239f87e12143219b757f21d5581b24c.jpg: 640x640 1 medicine-product magnesium back, 4 medicine-product nasenspulsalz backs, 18.5ms\n",
            "image 96/96 /content/train/images/IMG_0831_jpg.rf.bc1fd3455b18c1cd289f63c2e505b8aa.jpg: 640x640 1 medicine-product magnesium back, 3 medicine-product nasenspulsalz backs, 18.3ms\n",
            "Speed: 2.0ms preprocess, 20.5ms inference, 1.5ms postprocess per image at shape (1, 3, 640, 640)\n",
            "Results saved to \u001b[1mruns/detect/predict3\u001b[0m\n"
          ]
        }
      ]
    },
    {
      "cell_type": "code",
      "source": [
        "from google.colab import drive\n",
        "drive.mount('/content/drive')"
      ],
      "metadata": {
        "colab": {
          "base_uri": "https://localhost:8080/"
        },
        "id": "FhcFywHxEwU7",
        "outputId": "d02540b0-4045-4989-cbdc-247b906a2a52"
      },
      "execution_count": 7,
      "outputs": [
        {
          "output_type": "stream",
          "name": "stdout",
          "text": [
            "Mounted at /content/drive\n"
          ]
        }
      ]
    },
    {
      "cell_type": "code",
      "source": [
        "results = model.predict(source = \"/content/runs/detect/predict3/IMG_0819_jpg.rf.722e5c0a6a79b0f23e4ab851abc9f3da.jpg\", show = False, save = True)"
      ],
      "metadata": {
        "colab": {
          "base_uri": "https://localhost:8080/"
        },
        "id": "ECz9SEmXFDYo",
        "outputId": "d614b6e3-b715-43ef-c38d-22069b3a7588"
      },
      "execution_count": 9,
      "outputs": [
        {
          "output_type": "stream",
          "name": "stderr",
          "text": [
            "\n",
            "image 1/1 /content/runs/detect/predict3/IMG_0819_jpg.rf.722e5c0a6a79b0f23e4ab851abc9f3da.jpg: 640x640 1 medicine-product magnesium, 2 medicine-product nasenspulsalzs, 36.4ms\n",
            "Speed: 2.2ms preprocess, 36.4ms inference, 2.3ms postprocess per image at shape (1, 3, 640, 640)\n",
            "Results saved to \u001b[1mruns/detect/predict3\u001b[0m\n"
          ]
        }
      ]
    }
  ]
}